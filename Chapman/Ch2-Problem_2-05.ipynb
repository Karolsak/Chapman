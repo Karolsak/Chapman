{
 "cells": [
  {
   "cell_type": "markdown",
   "metadata": {},
   "source": [
    "# Exercises Electric Machinery Fundamentals\n",
    "## Chapter 2"
   ]
  },
  {
   "cell_type": "markdown",
   "metadata": {},
   "source": [
    "## Problem 2-5"
   ]
  },
  {
   "cell_type": "code",
   "execution_count": 1,
   "metadata": {
    "slideshow": {
     "slide_type": "skip"
    }
   },
   "outputs": [
    {
     "name": "stdout",
     "output_type": "stream",
     "text": [
      "%pylab is deprecated, use %matplotlib inline and import the required libraries.\n",
      "Populating the interactive namespace from numpy and matplotlib\n"
     ]
    }
   ],
   "source": [
    "%pylab inline\n",
    "%precision 4\n",
    "from scipy import constants as c   # we like to use some constants"
   ]
  },
  {
   "cell_type": "markdown",
   "metadata": {},
   "source": [
    "### Description\n",
    "When travelers from the USA and Canada visit Europe, they encounter a different power distribution\n",
    "system. Wall voltages in North America are 120 V rms at 60 Hz, while typical wall voltages in Europe\n",
    "are 230 V at 50 Hz, which means:"
   ]
  },
  {
   "cell_type": "code",
   "execution_count": 2,
   "metadata": {},
   "outputs": [],
   "source": [
    "#60Hz side (North America)\n",
    "Vrms60 = 120 # [V]\n",
    "freq60 = 60  # [Hz]\n",
    "\n",
    "#50Hz side (Europe)\n",
    "Vrms50 = 240 # [V]\n",
    "freq50 = 50  # [Hz]"
   ]
  },
  {
   "cell_type": "markdown",
   "metadata": {},
   "source": [
    "Many travelers carry small step-up / step-down transformers so that they can use\n",
    "their appliances in the countries that they are visiting. A typical transformer might be rated at 1-kVA and\n",
    "115/230 V. It has 500 turns of wire on the 115-V side and 1000 turns of wire on the 230-V side, through which it's known that:"
   ]
  },
  {
   "cell_type": "code",
   "execution_count": 3,
   "metadata": {},
   "outputs": [],
   "source": [
    "S = 1000     # Apparent power (VA)\n",
    "NP60 = 500   # Primary turns at 115V side\n",
    "NP50 = 1000  # Primary turns at 230V side"
   ]
  },
  {
   "cell_type": "markdown",
   "metadata": {},
   "source": [
    "The magnetization curve for this transformer is shown in Figure P2-2, and can be found in [p22_mag.dat](data/p22_mag.dat) at [this book's Web site](http://www.mhhe.com/engcs/electrical/chapman/)."
   ]
  },
  {
   "cell_type": "markdown",
   "metadata": {},
   "source": [
    "<img src=\"figs/FigC_P2-2.jpg\" width=\"100%\">"
   ]
  },
  {
   "cell_type": "code",
   "execution_count": 4,
   "metadata": {},
   "outputs": [],
   "source": [
    "#Load the magnetization curve data\n",
    "import pandas as pd\n",
    "# The data file is stored in the repository\n",
    "fileUrl = 'data/p22_mag.dat'\n",
    "data = pd.read_csv(fileUrl,     # the address where to download the datafile from\n",
    "                   sep=' ',     # our data source uses a blank space as separation\n",
    "                   comment='%', # ignore lines starting with a \"%\" \n",
    "                   skipinitialspace = True,  # ignore intital spaces\n",
    "                   header=None, # we don't have a header line defined...\n",
    "                   names=['mmf_data', 'flux_data'] # ...instead we define the names here\n",
    "                   ) "
   ]
  },
  {
   "cell_type": "markdown",
   "metadata": {},
   "source": [
    "#### (a)\n",
    "Suppose that this transformer is connected to a 120-V, 60 Hz power source with no load connected\n",
    "to the 240-V side. \n",
    " \n",
    " * Sketch the magnetization current that would flow in the transformer.\n",
    " * What is the rms amplitude of the magnetization current?\n",
    " * What percentage of full-load current is the magnetization current?\n",
    "\n",
    "#### (b)\n",
    "Now suppose that this transformer is connected to a 240-V, 50 Hz power source with no load\n",
    "connected to the 120-V side.\n",
    " \n",
    " * Sketch the magnetization current that would flow in the transformer.\n",
    " * What is the rms amplitude of the magnetization current?\n",
    " * What percentage of full-load current is the magnetization current?\n",
    "\n",
    "#### (c)\n",
    "\n",
    " * In which case is the magnetization current a higher percentage of full-load current? Why?"
   ]
  },
  {
   "cell_type": "markdown",
   "metadata": {},
   "source": [
    "### SOLUTION"
   ]
  },
  {
   "cell_type": "markdown",
   "metadata": {},
   "source": [
    "#### (a)\n",
    "\n",
    "When this transformer is connected to a 120-V 60 Hz source, the flux in the core will be given by\n",
    "the equation\n",
    "$$\\phi(t) = - \\frac{V_M}{\\omega N_P}\\cos(\\omega t)$$"
   ]
  },
  {
   "cell_type": "markdown",
   "metadata": {},
   "source": [
    "Calculate the angular velocity $\\omega$:"
   ]
  },
  {
   "cell_type": "code",
   "execution_count": 5,
   "metadata": {},
   "outputs": [
    {
     "name": "stdout",
     "output_type": "stream",
     "text": [
      "w = 376.9911 rad/s\n"
     ]
    }
   ],
   "source": [
    "w60 = 2 * pi * freq60\n",
    "print('w = {:.4f} rad/s'.format(w60))"
   ]
  },
  {
   "cell_type": "markdown",
   "metadata": {},
   "source": [
    "Calculate the maximum voltage $V_M$:"
   ]
  },
  {
   "cell_type": "code",
   "execution_count": 6,
   "metadata": {},
   "outputs": [
    {
     "name": "stdout",
     "output_type": "stream",
     "text": [
      "VM = 169.7056 V\n"
     ]
    }
   ],
   "source": [
    "VM60 = Vrms60 * sqrt(2)\n",
    "print('VM = {:.4f} V'.format(VM60) )"
   ]
  },
  {
   "cell_type": "markdown",
   "metadata": {},
   "source": [
    "Calculate flux versus time $\\phi(t)$ (saved as a vector):"
   ]
  },
  {
   "cell_type": "code",
   "execution_count": 7,
   "metadata": {},
   "outputs": [],
   "source": [
    "time = linspace(0, 1./30, 100)              # 0 to 1/30 sec\n",
    "flux60 = -VM60 / (w60 * NP60) * cos(w60 * time)"
   ]
  },
  {
   "cell_type": "markdown",
   "metadata": {},
   "source": [
    "The magnetization current required for a given flux $\\phi(t)$ can be found from Figure P2-2 or from the equivalent table in file [p22_mag.dat](data/p22_mag.dat) by using the interpolation function:"
   ]
  },
  {
   "cell_type": "code",
   "execution_count": 8,
   "metadata": {},
   "outputs": [],
   "source": [
    "mmf60 = interp(flux60, data['flux_data'], data['mmf_data'])"
   ]
  },
  {
   "cell_type": "markdown",
   "metadata": {},
   "source": [
    "Calculate the magnetization current $i_m$:"
   ]
  },
  {
   "cell_type": "code",
   "execution_count": 9,
   "metadata": {},
   "outputs": [],
   "source": [
    "im60 = mmf60 / NP60"
   ]
  },
  {
   "cell_type": "markdown",
   "metadata": {},
   "source": [
    "**Calculate the rms value of the current $i_\\text{rms}$:**"
   ]
  },
  {
   "cell_type": "code",
   "execution_count": 10,
   "metadata": {},
   "outputs": [
    {
     "name": "stdout",
     "output_type": "stream",
     "text": [
      "The rms current at 120 V and 60 Hz is 0.3186 A\n"
     ]
    }
   ],
   "source": [
    "irms60 = sqrt(sum(im60**2) / im60.size)\n",
    "print('The rms current at 120 V and 60 Hz is {:.4f} A'.format(irms60))"
   ]
  },
  {
   "cell_type": "markdown",
   "metadata": {},
   "source": [
    "Calculate the full-load current:"
   ]
  },
  {
   "cell_type": "code",
   "execution_count": 11,
   "metadata": {},
   "outputs": [],
   "source": [
    "i_fl60 = S / Vrms60"
   ]
  },
  {
   "cell_type": "markdown",
   "metadata": {},
   "source": [
    "**Calculate the percentage of full-load current:**"
   ]
  },
  {
   "cell_type": "code",
   "execution_count": 12,
   "metadata": {},
   "outputs": [
    {
     "name": "stdout",
     "output_type": "stream",
     "text": [
      "The magnetization current is 3.823% of full-load current.\n"
     ]
    }
   ],
   "source": [
    "percnt60 = irms60 / i_fl60 * 100\n",
    "print('The magnetization current is {:.3f}% of full-load current.'.format(percnt60))"
   ]
  },
  {
   "cell_type": "markdown",
   "metadata": {},
   "source": [
    "**Sketch the magnetization current $i_m$ that would flow in the transformer:**"
   ]
  },
  {
   "cell_type": "code",
   "execution_count": 13,
   "metadata": {},
   "outputs": [
    {
     "data": {
      "image/png": "[encoded data removed]",
      "text/plain": [
       "<Figure size 432x288 with 1 Axes>"
      ]
     },
     "metadata": {
      "needs_background": "light"
     },
     "output_type": "display_data"
    }
   ],
   "source": [
    "rc('text', usetex=True)   # enable LaTeX commands for plot\n",
    "figure()\n",
    "title(r'\\bf Magnetization current at 60 Hz')\n",
    "xlabel(r'\\bf Time (s)')\n",
    "ylabel(r'$\\mathbf{I_m}$ \\textbf{(A)}')\n",
    "axis([0,0.04,-0.5,0.5])   #set the axis range\n",
    "plot(time,im60)\n",
    "legend(('$60 Hz,\\,I_{{RMS}} = {:.3f}\\,A$'.format(irms60),), loc=4);\n",
    "grid()"
   ]
  },
  {
   "cell_type": "markdown",
   "metadata": {},
   "source": [
    "#### (b)\n",
    "\n",
    "When this transformer is connected to a 240-V 50 Hz source, the flux in the core will be given by\n",
    "the equation \n",
    "$$\\phi(t) = - \\frac{V_M}{\\omega N_S}\\cos(\\omega t)$$"
   ]
  },
  {
   "cell_type": "markdown",
   "metadata": {},
   "source": [
    "Calculate the angular velocity $\\omega$:"
   ]
  },
  {
   "cell_type": "code",
   "execution_count": 14,
   "metadata": {},
   "outputs": [
    {
     "name": "stdout",
     "output_type": "stream",
     "text": [
      "w = 314.1593 rad/s\n"
     ]
    }
   ],
   "source": [
    "w50 = 2 * pi * freq50\n",
    "print('w = {:.4f} rad/s'.format(w50) )"
   ]
  },
  {
   "cell_type": "markdown",
   "metadata": {},
   "source": [
    "Calculate the maximum voltage $\\text{V}_\\text{M}$:"
   ]
  },
  {
   "cell_type": "code",
   "execution_count": 15,
   "metadata": {},
   "outputs": [
    {
     "name": "stdout",
     "output_type": "stream",
     "text": [
      "VM = 339.4113 V\n"
     ]
    }
   ],
   "source": [
    "VM50 = Vrms50 * sqrt(2)\n",
    "print('VM = {:.4f} V'.format(VM50) )"
   ]
  },
  {
   "cell_type": "markdown",
   "metadata": {},
   "source": [
    "Calculate flux versus time $\\phi(t)$ (saved as a vector):"
   ]
  },
  {
   "cell_type": "code",
   "execution_count": 16,
   "metadata": {},
   "outputs": [],
   "source": [
    "time = linspace(0, 1.0/25, 100)               # 0 to 1/25 sec\n",
    "flux50 = -VM50 / (w50 * NP50) * cos(w50 * time)"
   ]
  },
  {
   "cell_type": "markdown",
   "metadata": {},
   "source": [
    "The magnetization current required for a given flux $\\phi(t)$ can be found from Figure P2-2 or from the equivalent table in file [p22_mag.dat](data/p22_mag.dat) by using the interpolation function:"
   ]
  },
  {
   "cell_type": "code",
   "execution_count": 17,
   "metadata": {},
   "outputs": [],
   "source": [
    "mmf50 = interp(flux50, data['flux_data'], data['mmf_data'])"
   ]
  },
  {
   "cell_type": "markdown",
   "metadata": {},
   "source": [
    "Calculate the magnetization current $\\text{i}_\\text{m}$:"
   ]
  },
  {
   "cell_type": "code",
   "execution_count": 18,
   "metadata": {},
   "outputs": [],
   "source": [
    "im50 = mmf50 / NP50"
   ]
  },
  {
   "cell_type": "markdown",
   "metadata": {},
   "source": [
    "**Calculate the rms value of the current $i_\\text{rms}$:**"
   ]
  },
  {
   "cell_type": "code",
   "execution_count": 19,
   "metadata": {},
   "outputs": [
    {
     "name": "stdout",
     "output_type": "stream",
     "text": [
      "The rms current at 120 V and 50 Hz is 0.22983 A\n"
     ]
    }
   ],
   "source": [
    "irms50 = sqrt(sum(im50**2) / im50.size)\n",
    "print('The rms current at 120 V and 50 Hz is {:.5f} A'.format(irms50))"
   ]
  },
  {
   "cell_type": "markdown",
   "metadata": {},
   "source": [
    "Calculate the full-load current:"
   ]
  },
  {
   "cell_type": "code",
   "execution_count": 20,
   "metadata": {},
   "outputs": [],
   "source": [
    "i_fl50 = S / Vrms50"
   ]
  },
  {
   "cell_type": "markdown",
   "metadata": {},
   "source": [
    "**Calculate the percentage of full-load current:**"
   ]
  },
  {
   "cell_type": "code",
   "execution_count": 21,
   "metadata": {},
   "outputs": [
    {
     "name": "stdout",
     "output_type": "stream",
     "text": [
      "The magnetization current is 5.516% of full-load current.\n"
     ]
    }
   ],
   "source": [
    "percnt50 = irms50 / i_fl50 * 100\n",
    "print('The magnetization current is {:.3f}% of full-load current.'.format(percnt50))"
   ]
  },
  {
   "cell_type": "markdown",
   "metadata": {},
   "source": [
    "**Sketch the magnetization current $i_m$ that would flow in the transformer:**"
   ]
  },
  {
   "cell_type": "code",
   "execution_count": 22,
   "metadata": {},
   "outputs": [
    {
     "data": {
      "image/png": "[encoded data removed]",
      "text/plain": [
       "<Figure size 432x288 with 1 Axes>"
      ]
     },
     "metadata": {
      "needs_background": "light"
     },
     "output_type": "display_data"
    }
   ],
   "source": [
    "rc('text', usetex=True)   # enable LaTeX commands for plot\n",
    "\n",
    "title(r'\\bf Magnetization current at 50 Hz')\n",
    "xlabel(r'\\bf Time (s)')\n",
    "ylabel(r'$\\mathbf{I_m}$ \\textbf{(A)}')\n",
    "axis([0,0.04,-0.5,0.5])   #set the axis range\n",
    "plot(time,im50)\n",
    "legend(('$50 Hz,\\,I_{{RMS}} = {:.3f} A$'.format(irms50),), loc=4);\n",
    "grid()"
   ]
  },
  {
   "cell_type": "markdown",
   "metadata": {},
   "source": [
    "#### (c)\n",
    "\n",
    "The magnetization current is a higher percentage of the full-load current for the 50 Hz case than for\n",
    "the 60 Hz case. This is true because the peak flux is higher for the 50 Hz waveform, driving the core\n",
    "further into saturation."
   ]
  },
  {
   "cell_type": "code",
   "execution_count": null,
   "metadata": {},
   "outputs": [],
   "source": []
  }
 ],
 "metadata": {
  "kernelspec": {
   "display_name": "Python 3",
   "language": "python",
   "name": "python3"
  },
  "language_info": {
   "codemirror_mode": {
    "name": "ipython",
    "version": 3
   },
   "file_extension": ".py",
   "mimetype": "text/x-python",
   "name": "python",
   "nbconvert_exporter": "python",
   "pygments_lexer": "ipython3",
   "version": "3.10.4"
  }
 },
 "nbformat": 4,
 "nbformat_minor": 1
}
