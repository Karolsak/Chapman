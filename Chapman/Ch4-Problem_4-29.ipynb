{
 "cells": [
  {
   "cell_type": "markdown",
   "metadata": {},
   "source": [
    "# Excercises Electric Machinery Fundamentals\n",
    "## Chapter 4"
   ]
  },
  {
   "cell_type": "markdown",
   "metadata": {},
   "source": [
    "## Problem 4-29"
   ]
  },
  {
   "cell_type": "code",
   "execution_count": 1,
   "metadata": {
    "slideshow": {
     "slide_type": "skip"
    }
   },
   "outputs": [
    {
     "name": "stdout",
     "output_type": "stream",
     "text": [
      "Populating the interactive namespace from numpy and matplotlib\n"
     ]
    }
   ],
   "source": [
    "%pylab inline"
   ]
  },
  {
   "cell_type": "markdown",
   "metadata": {},
   "source": [
    "### Description"
   ]
  },
  {
   "cell_type": "markdown",
   "metadata": {},
   "source": [
    "A 100-MVA, 14.4-kV 0.8-PF-lagging, Y-connected synchronous generator has a negligible armature\n",
    "resistance and a synchronous reactance of 1.0 per-unit. The generator is connected in parallel with a 60-\n",
    "Hz, 14.4-kV infinite bus that is capable of supplying or consuming any amount of real or reactive power\n",
    "with no change in frequency or terminal voltage."
   ]
  },
  {
   "cell_type": "code",
   "execution_count": 2,
   "metadata": {},
   "outputs": [],
   "source": [
    "Sbase = 100e6 # [VA]\n",
    "Vbase = 14.4e3 # [V]\n",
    "ra = 0.0 # pu\n",
    "xs = 1.0 # pu\n",
    "PF = 0.8"
   ]
  },
  {
   "cell_type": "markdown",
   "metadata": {},
   "source": [
    "#### (a)\n",
    " \n",
    " * What is the synchronous reactance of the generator in ohms?\n",
    "\n",
    "#### (b)\n",
    " \n",
    " * What is the internal generated voltage $E_A$ of this generator under rated conditions?\n",
    "\n",
    "#### (c)\n",
    " \n",
    " * What is the armature current $I_A$ in this machine at rated conditions?\n",
    "\n",
    "#### (d)\n",
    "Suppose that the generator is initially operating at rated conditions. If the internal generated voltage $E_A$ is decreased by 5 percent\n",
    " \n",
    " * What will the new armature current $I_A$ be?\n",
    "\n",
    "#### (e)\n",
    " \n",
    " * Repeat part (d) for 10, 15, 20, and 25 percent reductions in $E_A$ .\n",
    "\n",
    "#### (f)\n",
    " \n",
    " * Plot the magnitude of the armature current $I_A$ as a function of $E_A$ . "
   ]
  },
  {
   "cell_type": "markdown",
   "metadata": {},
   "source": [
    "### SOLUTION"
   ]
  },
  {
   "cell_type": "markdown",
   "metadata": {},
   "source": [
    "#### (a)\n",
    "The rated phase voltage of this generator is:"
   ]
  },
  {
   "cell_type": "code",
   "execution_count": 3,
   "metadata": {},
   "outputs": [
    {
     "name": "stdout",
     "output_type": "stream",
     "text": [
      "Vphi = 8314 V\n"
     ]
    }
   ],
   "source": [
    "Vphi_base = Vbase / sqrt(3)\n",
    "print('Vphi = {:.0f} V'.format(Vphi_base))"
   ]
  },
  {
   "cell_type": "markdown",
   "metadata": {},
   "source": [
    "The base impedance of this generator is:\n",
    "\n",
    "$$Z_\\text{base} = \\frac{3V^2_{\\phi,\\text{base}}}{S_\\text{base}}$$"
   ]
  },
  {
   "cell_type": "code",
   "execution_count": 4,
   "metadata": {},
   "outputs": [
    {
     "name": "stdout",
     "output_type": "stream",
     "text": [
      "Zbase = 2.07 Ω\n"
     ]
    }
   ],
   "source": [
    "Zbase = (3*Vphi_base**2) / Sbase\n",
    "print('Zbase = {:.2f} Ω'.format(Zbase))"
   ]
  },
  {
   "cell_type": "markdown",
   "metadata": {},
   "source": [
    "Therefore,"
   ]
  },
  {
   "cell_type": "code",
   "execution_count": 5,
   "metadata": {},
   "outputs": [
    {
     "name": "stdout",
     "output_type": "stream",
     "text": [
      "\n",
      "Ra = 0.0 Ω   Xs = 2.07 Ω\n",
      "========================\n"
     ]
    }
   ],
   "source": [
    "Ra = ra * Zbase\n",
    "Xs = xs * Zbase\n",
    "print('''\n",
    "Ra = {:.1f} Ω   Xs = {:.2f} Ω\n",
    "========================'''.format(Ra, Xs))"
   ]
  },
  {
   "cell_type": "markdown",
   "metadata": {},
   "source": [
    "#### (b)\n",
    "The rated armature current is:\n",
    "\n",
    "$$I_A = I_F = \\frac{S}{\\sqrt{3}V_T}$$"
   ]
  },
  {
   "cell_type": "code",
   "execution_count": 6,
   "metadata": {},
   "outputs": [
    {
     "name": "stdout",
     "output_type": "stream",
     "text": [
      "ia = 4009 A\n"
     ]
    }
   ],
   "source": [
    "ia = Sbase / (sqrt(3)*Vbase)\n",
    "print('ia = {:.0f} A'.format(ia))"
   ]
  },
  {
   "cell_type": "markdown",
   "metadata": {},
   "source": [
    "The power factor is 0.8 lagging, so"
   ]
  },
  {
   "cell_type": "code",
   "execution_count": 7,
   "metadata": {},
   "outputs": [
    {
     "name": "stdout",
     "output_type": "stream",
     "text": [
      "Ia = 4009 A ∠-36.87°\n"
     ]
    }
   ],
   "source": [
    "Ia_angle = -arccos(PF)\n",
    "Ia = ia * (cos(Ia_angle) + sin(Ia_angle) * 1j)\n",
    "print('Ia = {:.0f} A ∠{:.2f}°'.format(abs(Ia), Ia_angle/pi*180))"
   ]
  },
  {
   "cell_type": "markdown",
   "metadata": {},
   "source": [
    "Therefore, the internal generated voltage is:\n",
    "$$\\vec{E}_A = \\vec{V}_\\phi + R_A\\vec{I}_A + jX_S\\vec{I}_A$$"
   ]
  },
  {
   "cell_type": "code",
   "execution_count": 8,
   "metadata": {},
   "outputs": [
    {
     "name": "stdout",
     "output_type": "stream",
     "text": [
      "\n",
      "EA = 14872 V ∠26.57°\n",
      "====================\n"
     ]
    }
   ],
   "source": [
    "EA = Vphi_base + Ra*Ia + Xs*1j *Ia\n",
    "EA_angle = arctan(EA.imag/EA.real)\n",
    "print('''\n",
    "EA = {:.0f} V ∠{:.2f}°\n",
    "===================='''.format(abs(EA), EA_angle/pi*180))"
   ]
  },
  {
   "cell_type": "markdown",
   "metadata": {},
   "source": [
    "#### (c)\n",
    "From the above calculations"
   ]
  },
  {
   "cell_type": "code",
   "execution_count": 9,
   "metadata": {},
   "outputs": [
    {
     "name": "stdout",
     "output_type": "stream",
     "text": [
      "\n",
      "Ia = 4009 A ∠-36.87°\n",
      "====================\n"
     ]
    }
   ],
   "source": [
    "print('''\n",
    "Ia = {:.0f} A ∠{:.2f}°\n",
    "===================='''.format(abs(Ia), Ia_angle/pi*180))"
   ]
  },
  {
   "cell_type": "markdown",
   "metadata": {},
   "source": [
    "#### (d)\n",
    "If $E_A$ is decreased by 5%, the armature current will change as shown below. Note that the infinite bus will keep $V_\\phi$ and $\\omega_m$ constant. Also, since the prime mover hasn’t changed, the power supplied by the generator will be constant.\n",
    "\n",
    "<img src=\"figs/Problem_4-29.png\" width=\"60%\">\n",
    "\n",
    "$P = \\frac{3V_\\phi E_A}{X_S}\\sin{\\delta} =$ constant, so: $E_{A1}\\sin{\\delta_1} = E_{A2}\\sin{\\delta_2}$"
   ]
  },
  {
   "cell_type": "markdown",
   "metadata": {},
   "source": [
    "With a **5%** decrease,"
   ]
  },
  {
   "cell_type": "code",
   "execution_count": 10,
   "metadata": {},
   "outputs": [
    {
     "name": "stdout",
     "output_type": "stream",
     "text": [
      "Ea1 = 14872 V    Ea2 = 14129 V\n"
     ]
    }
   ],
   "source": [
    "Ea1 = abs(EA)\n",
    "Ea2 = Ea1 * 0.95\n",
    "print('Ea1 = {:.0f} V    Ea2 = {:.0f} V'.format(Ea1, Ea2))"
   ]
  },
  {
   "cell_type": "markdown",
   "metadata": {},
   "source": [
    "$$\\delta_2 = \\arcsin\\left(\\frac{E_{A1}}{E_{A2}}\\sin{\\delta_1}\\right)$$"
   ]
  },
  {
   "cell_type": "code",
   "execution_count": 11,
   "metadata": {},
   "outputs": [
    {
     "name": "stdout",
     "output_type": "stream",
     "text": [
      "delta2 = 28.1°\n"
     ]
    }
   ],
   "source": [
    "delta1 = EA_angle\n",
    "delta2 = arcsin(Ea1/Ea2 * sin(delta1))\n",
    "print('delta2 = {:.1f}°'.format(delta2/pi*180))\n",
    "EA2 = Ea2 * exp(1j*delta2)"
   ]
  },
  {
   "cell_type": "markdown",
   "metadata": {},
   "source": [
    "Therefore, the new armature current is:\n",
    "$$\\vec{I}_A = \\frac{\\vec{E}_{A2} - \\vec{V}_\\phi}{jX_S}$$"
   ]
  },
  {
   "cell_type": "code",
   "execution_count": 12,
   "metadata": {},
   "outputs": [
    {
     "name": "stdout",
     "output_type": "stream",
     "text": [
      "\n",
      "Ia2 = 3781 A ∠-32.0°\n",
      "====================\n"
     ]
    }
   ],
   "source": [
    "Ia2 = (EA2 - Vphi_base) / (Xs*1j)\n",
    "Ia2_angle = arctan(Ia2.imag/Ia2.real)\n",
    "print('''\n",
    "Ia2 = {:.0f} A ∠{:.1f}°\n",
    "===================='''.format(abs(Ia2), Ia2_angle/pi*180))"
   ]
  },
  {
   "cell_type": "markdown",
   "metadata": {},
   "source": [
    "#### (e)\n",
    "Repeating part (d):\n",
    "\n",
    "With a **10%** decrease,"
   ]
  },
  {
   "cell_type": "code",
   "execution_count": 13,
   "metadata": {},
   "outputs": [
    {
     "name": "stdout",
     "output_type": "stream",
     "text": [
      "Ea1 = 14872 V    Ea3 = 13385 V\n"
     ]
    }
   ],
   "source": [
    "Ea1 = abs(EA)\n",
    "Ea3 = Ea1 * 0.9\n",
    "print('Ea1 = {:.0f} V    Ea3 = {:.0f} V'.format(Ea1, Ea3))"
   ]
  },
  {
   "cell_type": "code",
   "execution_count": 14,
   "metadata": {},
   "outputs": [
    {
     "name": "stdout",
     "output_type": "stream",
     "text": [
      "delta3 = 29.8°\n"
     ]
    }
   ],
   "source": [
    "delta1 = EA_angle\n",
    "delta3 = arcsin(Ea1/Ea3 * sin(delta1))\n",
    "print('delta3 = {:.1f}°'.format(delta3/pi*180))\n",
    "EA3 = Ea3 * exp(1j*delta3)"
   ]
  },
  {
   "cell_type": "markdown",
   "metadata": {},
   "source": [
    "Therefore, the new armature current is:"
   ]
  },
  {
   "cell_type": "code",
   "execution_count": 15,
   "metadata": {},
   "outputs": [
    {
     "name": "stdout",
     "output_type": "stream",
     "text": [
      "\n",
      "Ia3 = 3581 A ∠-26.4°\n",
      "=====================\n"
     ]
    }
   ],
   "source": [
    "Ia3 = (EA3 - Vphi_base) / (Xs*1j)\n",
    "Ia3_angle = arctan(Ia3.imag/Ia3.real)\n",
    "print('''\n",
    "Ia3 = {:.0f} A ∠{:.1f}°\n",
    "====================='''.format(abs(Ia3), Ia3_angle/pi *180))"
   ]
  },
  {
   "cell_type": "markdown",
   "metadata": {},
   "source": [
    "With a **15%** decrease,"
   ]
  },
  {
   "cell_type": "code",
   "execution_count": 16,
   "metadata": {},
   "outputs": [
    {
     "name": "stdout",
     "output_type": "stream",
     "text": [
      "Ea1 = 14872 V    Ea4 = 12641 V\n"
     ]
    }
   ],
   "source": [
    "Ea1 = abs(EA)\n",
    "Ea4 = Ea1 * 0.85\n",
    "print('Ea1 = {:.0f} V    Ea4 = {:.0f} V'.format(Ea1, Ea4))"
   ]
  },
  {
   "cell_type": "code",
   "execution_count": 17,
   "metadata": {},
   "outputs": [
    {
     "name": "stdout",
     "output_type": "stream",
     "text": [
      "delta4 = 31.7°\n"
     ]
    }
   ],
   "source": [
    "delta1 = EA_angle\n",
    "delta4 = arcsin(Ea1/Ea4 * sin(delta1))\n",
    "print('delta4 = {:.1f}°'.format(delta4/pi*180))\n",
    "EA4 = Ea4 * exp(1j*delta4)"
   ]
  },
  {
   "cell_type": "markdown",
   "metadata": {},
   "source": [
    "Therefore, the new armature current is:"
   ]
  },
  {
   "cell_type": "code",
   "execution_count": 18,
   "metadata": {},
   "outputs": [
    {
     "name": "stdout",
     "output_type": "stream",
     "text": [
      "\n",
      "Ia4 = 3416 A ∠-20.1°\n",
      "=====================\n"
     ]
    }
   ],
   "source": [
    "Ia4 = (EA4 - Vphi_base) / (Xs*1j)\n",
    "Ia4_angle = arctan(Ia4.imag/Ia4.real)\n",
    "print('''\n",
    "Ia4 = {:.0f} A ∠{:.1f}°\n",
    "====================='''.format(abs(Ia4), Ia4_angle/pi *180))"
   ]
  },
  {
   "cell_type": "markdown",
   "metadata": {},
   "source": [
    "With a **20%** decrease,"
   ]
  },
  {
   "cell_type": "code",
   "execution_count": 19,
   "metadata": {},
   "outputs": [
    {
     "name": "stdout",
     "output_type": "stream",
     "text": [
      "Ea1 = 14872 V    Ea5 = 11898 V\n"
     ]
    }
   ],
   "source": [
    "Ea1 = abs(EA)\n",
    "Ea5 = Ea1 * 0.80\n",
    "print('Ea1 = {:.0f} V    Ea5 = {:.0f} V'.format(Ea1, Ea5))"
   ]
  },
  {
   "cell_type": "code",
   "execution_count": 20,
   "metadata": {},
   "outputs": [
    {
     "name": "stdout",
     "output_type": "stream",
     "text": [
      "delta5 = 34.0°\n"
     ]
    }
   ],
   "source": [
    "delta1 = EA_angle\n",
    "delta5 = arcsin(Ea1/Ea5 * sin(delta1))\n",
    "print('delta5 = {:.1f}°'.format(delta5/pi*180))\n",
    "EA5 = Ea5 * exp(1j*delta5)"
   ]
  },
  {
   "cell_type": "markdown",
   "metadata": {},
   "source": [
    "Therefore, the new armature current is:"
   ]
  },
  {
   "cell_type": "code",
   "execution_count": 21,
   "metadata": {},
   "outputs": [
    {
     "name": "stdout",
     "output_type": "stream",
     "text": [
      "\n",
      "Ia5 = 3294 A ∠-13.1°\n",
      "=====================\n"
     ]
    }
   ],
   "source": [
    "Ia5 = (EA5 - Vphi_base) / (Xs*1j)\n",
    "Ia5_angle = arctan(Ia5.imag/Ia5.real)\n",
    "print('''\n",
    "Ia5 = {:.0f} A ∠{:.1f}°\n",
    "====================='''.format(abs(Ia5), Ia5_angle/pi *180))"
   ]
  },
  {
   "cell_type": "markdown",
   "metadata": {},
   "source": [
    "With a **25%** decrease,"
   ]
  },
  {
   "cell_type": "code",
   "execution_count": 22,
   "metadata": {},
   "outputs": [
    {
     "name": "stdout",
     "output_type": "stream",
     "text": [
      "Ea1 = 14872 V    Ea6 = 11154 V\n"
     ]
    }
   ],
   "source": [
    "Ea1 = abs(EA)\n",
    "Ea6 = Ea1 * 0.75\n",
    "print('Ea1 = {:.0f} V    Ea6 = {:.0f} V'.format(Ea1, Ea6))"
   ]
  },
  {
   "cell_type": "code",
   "execution_count": 23,
   "metadata": {},
   "outputs": [
    {
     "name": "stdout",
     "output_type": "stream",
     "text": [
      "delta6 = 36.6°\n"
     ]
    }
   ],
   "source": [
    "delta1 = EA_angle\n",
    "delta6 = arcsin(Ea1/Ea6 * sin(delta1))\n",
    "print('delta6 = {:.1f}°'.format(delta6/pi*180))\n",
    "EA6 = Ea6 * exp(1j*delta6)"
   ]
  },
  {
   "cell_type": "markdown",
   "metadata": {},
   "source": [
    "Therefore, the new armature current is:"
   ]
  },
  {
   "cell_type": "code",
   "execution_count": 24,
   "metadata": {},
   "outputs": [
    {
     "name": "stdout",
     "output_type": "stream",
     "text": [
      "\n",
      "Ia6 = 3222 A ∠-5.5°\n",
      "=====================\n"
     ]
    }
   ],
   "source": [
    "Ia6 = (EA6 - Vphi_base) / (Xs*1j)\n",
    "Ia6_angle = arctan(Ia6.imag/Ia6.real)\n",
    "print('''\n",
    "Ia6 = {:.0f} A ∠{:.1f}°\n",
    "====================='''.format(abs(Ia6), Ia6_angle/pi *180))"
   ]
  },
  {
   "cell_type": "markdown",
   "metadata": {},
   "source": [
    "#### (f)\n",
    "We are going to plot the magnitude of the armature current $I_A$ as a function of $E_A$ below.\n",
    "\n",
    "Define values for this generator:"
   ]
  },
  {
   "cell_type": "code",
   "execution_count": 25,
   "metadata": {},
   "outputs": [],
   "source": [
    "Ea = linspace(0.55, 1.00, 46)  * abs(EA)\n",
    "d1 = EA_angle"
   ]
  },
  {
   "cell_type": "markdown",
   "metadata": {},
   "source": [
    "Calculate delta for each $E_A$"
   ]
  },
  {
   "cell_type": "code",
   "execution_count": 26,
   "metadata": {},
   "outputs": [],
   "source": [
    "d_ = arcsin( abs(EA) / Ea * sin(d1))"
   ]
  },
  {
   "cell_type": "markdown",
   "metadata": {},
   "source": [
    "Calculate Ia for each flux:"
   ]
  },
  {
   "cell_type": "code",
   "execution_count": 27,
   "metadata": {},
   "outputs": [],
   "source": [
    "Ea_ = Ea * exp(1j*d_)\n",
    "Ia_ = ( Ea_ - Vphi_base ) / (Xs*1j)"
   ]
  },
  {
   "cell_type": "markdown",
   "metadata": {},
   "source": [
    "Plot the armature current versus Ea:"
   ]
  },
  {
   "cell_type": "code",
   "execution_count": 28,
   "metadata": {},
   "outputs": [
    {
     "data": {
      "application/javascript": [
       "/* Put everything inside the global mpl namespace */\n",
       "/* global mpl */\n",
       "window.mpl = {};\n",
       "\n",
       "mpl.get_websocket_type = function () {\n",
       "    if (typeof WebSocket !== 'undefined') {\n",
       "        return WebSocket;\n",
       "    } else if (typeof MozWebSocket !== 'undefined') {\n",
       "        return MozWebSocket;\n",
       "    } else {\n",
       "        alert(\n",
       "            'Your browser does not have WebSocket support. ' +\n",
       "                'Please try Chrome, Safari or Firefox ≥ 6. ' +\n",
       "                'Firefox 4 and 5 are also supported but you ' +\n",
       "                'have to enable WebSockets in about:config.'\n",
       "        );\n",
       "    }\n",
       "};\n",
       "\n",
       "mpl.figure = function (figure_id, websocket, ondownload, parent_element) {\n",
       "    this.id = figure_id;\n",
       "\n",
       "    this.ws = websocket;\n",
       "\n",
       "    this.supports_binary = this.ws.binaryType !== undefined;\n",
       "\n",
       "    if (!this.supports_binary) {\n",
       "        var warnings = document.getElementById('mpl-warnings');\n",
       "        if (warnings) {\n",
       "            warnings.style.display = 'block';\n",
       "            warnings.textContent =\n",
       "                'This browser does not support binary websocket messages. ' +\n",
       "                'Performance may be slow.';\n",
       "        }\n",
       "    }\n",
       "\n",
       "    this.imageObj = new Image();\n",
       "\n",
       "    this.context = undefined;\n",
       "    this.message = undefined;\n",
       "    this.canvas = undefined;\n",
       "    this.rubberband_canvas = undefined;\n",
       "    this.rubberband_context = undefined;\n",
       "    this.format_dropdown = undefined;\n",
       "\n",
       "    this.image_mode = 'full';\n",
       "\n",
       "    this.root = document.createElement('div');\n",
       "    this.root.setAttribute('style', 'display: inline-block');\n",
       "    this._root_extra_style(this.root);\n",
       "\n",
       "    parent_element.appendChild(this.root);\n",
       "\n",
       "    this._init_header(this);\n",
       "    this._init_canvas(this);\n",
       "    this._init_toolbar(this);\n",
       "\n",
       "    var fig = this;\n",
       "\n",
       "    this.waiting = false;\n",
       "\n",
       "    this.ws.onopen = function () {\n",
       "        fig.send_message('supports_binary', { value: fig.supports_binary });\n",
       "        fig.send_message('send_image_mode', {});\n",
       "        if (fig.ratio !== 1) {\n",
       "            fig.send_message('set_dpi_ratio', { dpi_ratio: fig.ratio });\n",
       "        }\n",
       "        fig.send_message('refresh', {});\n",
       "    };\n",
       "\n",
       "    this.imageObj.onload = function () {\n",
       "        if (fig.image_mode === 'full') {\n",
       "            // Full images could contain transparency (where diff images\n",
       "            // almost always do), so we need to clear the canvas so that\n",
       "            // there is no ghosting.\n",
       "            fig.context.clearRect(0, 0, fig.canvas.width, fig.canvas.height);\n",
       "        }\n",
       "        fig.context.drawImage(fig.imageObj, 0, 0);\n",
       "    };\n",
       "\n",
       "    this.imageObj.onunload = function () {\n",
       "        fig.ws.close();\n",
       "    };\n",
       "\n",
       "    this.ws.onmessage = this._make_on_message_function(this);\n",
       "\n",
       "    this.ondownload = ondownload;\n",
       "};\n",
       "\n",
       "mpl.figure.prototype._init_header = function () {\n",
       "    var titlebar = document.createElement('div');\n",
       "    titlebar.classList =\n",
       "        'ui-dialog-titlebar ui-widget-header ui-corner-all ui-helper-clearfix';\n",
       "    var titletext = document.createElement('div');\n",
       "    titletext.classList = 'ui-dialog-title';\n",
       "    titletext.setAttribute(\n",
       "        'style',\n",
       "        'width: 100%; text-align: center; padding: 3px;'\n",
       "    );\n",
       "    titlebar.appendChild(titletext);\n",
       "    this.root.appendChild(titlebar);\n",
       "    this.header = titletext;\n",
       "};\n",
       "\n",
       "mpl.figure.prototype._canvas_extra_style = function (_canvas_div) {};\n",
       "\n",
       "mpl.figure.prototype._root_extra_style = function (_canvas_div) {};\n",
       "\n",
       "mpl.figure.prototype._init_canvas = function () {\n",
       "    var fig = this;\n",
       "\n",
       "    var canvas_div = (this.canvas_div = document.createElement('div'));\n",
       "    canvas_div.setAttribute(\n",
       "        'style',\n",
       "        'border: 1px solid #ddd;' +\n",
       "            'box-sizing: content-box;' +\n",
       "            'clear: both;' +\n",
       "            'min-height: 1px;' +\n",
       "            'min-width: 1px;' +\n",
       "            'outline: 0;' +\n",
       "            'overflow: hidden;' +\n",
       "            'position: relative;' +\n",
       "            'resize: both;'\n",
       "    );\n",
       "\n",
       "    function on_keyboard_event_closure(name) {\n",
       "        return function (event) {\n",
       "            return fig.key_event(event, name);\n",
       "        };\n",
       "    }\n",
       "\n",
       "    canvas_div.addEventListener(\n",
       "        'keydown',\n",
       "        on_keyboard_event_closure('key_press')\n",
       "    );\n",
       "    canvas_div.addEventListener(\n",
       "        'keyup',\n",
       "        on_keyboard_event_closure('key_release')\n",
       "    );\n",
       "\n",
       "    this._canvas_extra_style(canvas_div);\n",
       "    this.root.appendChild(canvas_div);\n",
       "\n",
       "    var canvas = (this.canvas = document.createElement('canvas'));\n",
       "    canvas.classList.add('mpl-canvas');\n",
       "    canvas.setAttribute('style', 'box-sizing: content-box;');\n",
       "\n",
       "    this.context = canvas.getContext('2d');\n",
       "\n",
       "    var backingStore =\n",
       "        this.context.backingStorePixelRatio ||\n",
       "        this.context.webkitBackingStorePixelRatio ||\n",
       "        this.context.mozBackingStorePixelRatio ||\n",
       "        this.context.msBackingStorePixelRatio ||\n",
       "        this.context.oBackingStorePixelRatio ||\n",
       "        this.context.backingStorePixelRatio ||\n",
       "        1;\n",
       "\n",
       "    this.ratio = (window.devicePixelRatio || 1) / backingStore;\n",
       "\n",
       "    var rubberband_canvas = (this.rubberband_canvas = document.createElement(\n",
       "        'canvas'\n",
       "    ));\n",
       "    rubberband_canvas.setAttribute(\n",
       "        'style',\n",
       "        'box-sizing: content-box; position: absolute; left: 0; top: 0; z-index: 1;'\n",
       "    );\n",
       "\n",
       "    // Apply a ponyfill if ResizeObserver is not implemented by browser.\n",
       "    if (this.ResizeObserver === undefined) {\n",
       "        if (window.ResizeObserver !== undefined) {\n",
       "            this.ResizeObserver = window.ResizeObserver;\n",
       "        } else {\n",
       "            var obs = _JSXTOOLS_RESIZE_OBSERVER({});\n",
       "            this.ResizeObserver = obs.ResizeObserver;\n",
       "        }\n",
       "    }\n",
       "\n",
       "    this.resizeObserverInstance = new this.ResizeObserver(function (entries) {\n",
       "        var nentries = entries.length;\n",
       "        for (var i = 0; i < nentries; i++) {\n",
       "            var entry = entries[i];\n",
       "            var width, height;\n",
       "            if (entry.contentBoxSize) {\n",
       "                if (entry.contentBoxSize instanceof Array) {\n",
       "                    // Chrome 84 implements new version of spec.\n",
       "                    width = entry.contentBoxSize[0].inlineSize;\n",
       "                    height = entry.contentBoxSize[0].blockSize;\n",
       "                } else {\n",
       "                    // Firefox implements old version of spec.\n",
       "                    width = entry.contentBoxSize.inlineSize;\n",
       "                    height = entry.contentBoxSize.blockSize;\n",
       "                }\n",
       "            } else {\n",
       "                // Chrome <84 implements even older version of spec.\n",
       "                width = entry.contentRect.width;\n",
       "                height = entry.contentRect.height;\n",
       "            }\n",
       "\n",
       "            // Keep the size of the canvas and rubber band canvas in sync with\n",
       "            // the canvas container.\n",
       "            if (entry.devicePixelContentBoxSize) {\n",
       "                // Chrome 84 implements new version of spec.\n",
       "                canvas.setAttribute(\n",
       "                    'width',\n",
       "                    entry.devicePixelContentBoxSize[0].inlineSize\n",
       "                );\n",
       "                canvas.setAttribute(\n",
       "                    'height',\n",
       "                    entry.devicePixelContentBoxSize[0].blockSize\n",
       "                );\n",
       "            } else {\n",
       "                canvas.setAttribute('width', width * fig.ratio);\n",
       "                canvas.setAttribute('height', height * fig.ratio);\n",
       "            }\n",
       "            canvas.setAttribute(\n",
       "                'style',\n",
       "                'width: ' + width + 'px; height: ' + height + 'px;'\n",
       "            );\n",
       "\n",
       "            rubberband_canvas.setAttribute('width', width);\n",
       "            rubberband_canvas.setAttribute('height', height);\n",
       "\n",
       "            // And update the size in Python. We ignore the initial 0/0 size\n",
       "            // that occurs as the element is placed into the DOM, which should\n",
       "            // otherwise not happen due to the minimum size styling.\n",
       "            if (fig.ws.readyState == 1 && width != 0 && height != 0) {\n",
       "                fig.request_resize(width, height);\n",
       "            }\n",
       "        }\n",
       "    });\n",
       "    this.resizeObserverInstance.observe(canvas_div);\n",
       "\n",
       "    function on_mouse_event_closure(name) {\n",
       "        return function (event) {\n",
       "            return fig.mouse_event(event, name);\n",
       "        };\n",
       "    }\n",
       "\n",
       "    rubberband_canvas.addEventListener(\n",
       "        'mousedown',\n",
       "        on_mouse_event_closure('button_press')\n",
       "    );\n",
       "    rubberband_canvas.addEventListener(\n",
       "        'mouseup',\n",
       "        on_mouse_event_closure('button_release')\n",
       "    );\n",
       "    rubberband_canvas.addEventListener(\n",
       "        'dblclick',\n",
       "        on_mouse_event_closure('dblclick')\n",
       "    );\n",
       "    // Throttle sequential mouse events to 1 every 20ms.\n",
       "    rubberband_canvas.addEventListener(\n",
       "        'mousemove',\n",
       "        on_mouse_event_closure('motion_notify')\n",
       "    );\n",
       "\n",
       "    rubberband_canvas.addEventListener(\n",
       "        'mouseenter',\n",
       "        on_mouse_event_closure('figure_enter')\n",
       "    );\n",
       "    rubberband_canvas.addEventListener(\n",
       "        'mouseleave',\n",
       "        on_mouse_event_closure('figure_leave')\n",
       "    );\n",
       "\n",
       "    canvas_div.addEventListener('wheel', function (event) {\n",
       "        if (event.deltaY < 0) {\n",
       "            event.step = 1;\n",
       "        } else {\n",
       "            event.step = -1;\n",
       "        }\n",
       "        on_mouse_event_closure('scroll')(event);\n",
       "    });\n",
       "\n",
       "    canvas_div.appendChild(canvas);\n",
       "    canvas_div.appendChild(rubberband_canvas);\n",
       "\n",
       "    this.rubberband_context = rubberband_canvas.getContext('2d');\n",
       "    this.rubberband_context.strokeStyle = '#000000';\n",
       "\n",
       "    this._resize_canvas = function (width, height, forward) {\n",
       "        if (forward) {\n",
       "            canvas_div.style.width = width + 'px';\n",
       "            canvas_div.style.height = height + 'px';\n",
       "        }\n",
       "    };\n",
       "\n",
       "    // Disable right mouse context menu.\n",
       "    this.rubberband_canvas.addEventListener('contextmenu', function (_e) {\n",
       "        event.preventDefault();\n",
       "        return false;\n",
       "    });\n",
       "\n",
       "    function set_focus() {\n",
       "        canvas.focus();\n",
       "        canvas_div.focus();\n",
       "    }\n",
       "\n",
       "    window.setTimeout(set_focus, 100);\n",
       "};\n",
       "\n",
       "mpl.figure.prototype._init_toolbar = function () {\n",
       "    var fig = this;\n",
       "\n",
       "    var toolbar = document.createElement('div');\n",
       "    toolbar.classList = 'mpl-toolbar';\n",
       "    this.root.appendChild(toolbar);\n",
       "\n",
       "    function on_click_closure(name) {\n",
       "        return function (_event) {\n",
       "            return fig.toolbar_button_onclick(name);\n",
       "        };\n",
       "    }\n",
       "\n",
       "    function on_mouseover_closure(tooltip) {\n",
       "        return function (event) {\n",
       "            if (!event.currentTarget.disabled) {\n",
       "                return fig.toolbar_button_onmouseover(tooltip);\n",
       "            }\n",
       "        };\n",
       "    }\n",
       "\n",
       "    fig.buttons = {};\n",
       "    var buttonGroup = document.createElement('div');\n",
       "    buttonGroup.classList = 'mpl-button-group';\n",
       "    for (var toolbar_ind in mpl.toolbar_items) {\n",
       "        var name = mpl.toolbar_items[toolbar_ind][0];\n",
       "        var tooltip = mpl.toolbar_items[toolbar_ind][1];\n",
       "        var image = mpl.toolbar_items[toolbar_ind][2];\n",
       "        var method_name = mpl.toolbar_items[toolbar_ind][3];\n",
       "\n",
       "        if (!name) {\n",
       "            /* Instead of a spacer, we start a new button group. */\n",
       "            if (buttonGroup.hasChildNodes()) {\n",
       "                toolbar.appendChild(buttonGroup);\n",
       "            }\n",
       "            buttonGroup = document.createElement('div');\n",
       "            buttonGroup.classList = 'mpl-button-group';\n",
       "            continue;\n",
       "        }\n",
       "\n",
       "        var button = (fig.buttons[name] = document.createElement('button'));\n",
       "        button.classList = 'mpl-widget';\n",
       "        button.setAttribute('role', 'button');\n",
       "        button.setAttribute('aria-disabled', 'false');\n",
       "        button.addEventListener('click', on_click_closure(method_name));\n",
       "        button.addEventListener('mouseover', on_mouseover_closure(tooltip));\n",
       "\n",
       "        var icon_img = document.createElement('img');\n",
       "        icon_img.src = '_images/' + image + '.png';\n",
       "        icon_img.srcset = '_images/' + image + '_large.png 2x';\n",
       "        icon_img.alt = tooltip;\n",
       "        button.appendChild(icon_img);\n",
       "\n",
       "        buttonGroup.appendChild(button);\n",
       "    }\n",
       "\n",
       "    if (buttonGroup.hasChildNodes()) {\n",
       "        toolbar.appendChild(buttonGroup);\n",
       "    }\n",
       "\n",
       "    var fmt_picker = document.createElement('select');\n",
       "    fmt_picker.classList = 'mpl-widget';\n",
       "    toolbar.appendChild(fmt_picker);\n",
       "    this.format_dropdown = fmt_picker;\n",
       "\n",
       "    for (var ind in mpl.extensions) {\n",
       "        var fmt = mpl.extensions[ind];\n",
       "        var option = document.createElement('option');\n",
       "        option.selected = fmt === mpl.default_extension;\n",
       "        option.innerHTML = fmt;\n",
       "        fmt_picker.appendChild(option);\n",
       "    }\n",
       "\n",
       "    var status_bar = document.createElement('span');\n",
       "    status_bar.classList = 'mpl-message';\n",
       "    toolbar.appendChild(status_bar);\n",
       "    this.message = status_bar;\n",
       "};\n",
       "\n",
       "mpl.figure.prototype.request_resize = function (x_pixels, y_pixels) {\n",
       "    // Request matplotlib to resize the figure. Matplotlib will then trigger a resize in the client,\n",
       "    // which will in turn request a refresh of the image.\n",
       "    this.send_message('resize', { width: x_pixels, height: y_pixels });\n",
       "};\n",
       "\n",
       "mpl.figure.prototype.send_message = function (type, properties) {\n",
       "    properties['type'] = type;\n",
       "    properties['figure_id'] = this.id;\n",
       "    this.ws.send(JSON.stringify(properties));\n",
       "};\n",
       "\n",
       "mpl.figure.prototype.send_draw_message = function () {\n",
       "    if (!this.waiting) {\n",
       "        this.waiting = true;\n",
       "        this.ws.send(JSON.stringify({ type: 'draw', figure_id: this.id }));\n",
       "    }\n",
       "};\n",
       "\n",
       "mpl.figure.prototype.handle_save = function (fig, _msg) {\n",
       "    var format_dropdown = fig.format_dropdown;\n",
       "    var format = format_dropdown.options[format_dropdown.selectedIndex].value;\n",
       "    fig.ondownload(fig, format);\n",
       "};\n",
       "\n",
       "mpl.figure.prototype.handle_resize = function (fig, msg) {\n",
       "    var size = msg['size'];\n",
       "    if (size[0] !== fig.canvas.width || size[1] !== fig.canvas.height) {\n",
       "        fig._resize_canvas(size[0], size[1], msg['forward']);\n",
       "        fig.send_message('refresh', {});\n",
       "    }\n",
       "};\n",
       "\n",
       "mpl.figure.prototype.handle_rubberband = function (fig, msg) {\n",
       "    var x0 = msg['x0'] / fig.ratio;\n",
       "    var y0 = (fig.canvas.height - msg['y0']) / fig.ratio;\n",
       "    var x1 = msg['x1'] / fig.ratio;\n",
       "    var y1 = (fig.canvas.height - msg['y1']) / fig.ratio;\n",
       "    x0 = Math.floor(x0) + 0.5;\n",
       "    y0 = Math.floor(y0) + 0.5;\n",
       "    x1 = Math.floor(x1) + 0.5;\n",
       "    y1 = Math.floor(y1) + 0.5;\n",
       "    var min_x = Math.min(x0, x1);\n",
       "    var min_y = Math.min(y0, y1);\n",
       "    var width = Math.abs(x1 - x0);\n",
       "    var height = Math.abs(y1 - y0);\n",
       "\n",
       "    fig.rubberband_context.clearRect(\n",
       "        0,\n",
       "        0,\n",
       "        fig.canvas.width / fig.ratio,\n",
       "        fig.canvas.height / fig.ratio\n",
       "    );\n",
       "\n",
       "    fig.rubberband_context.strokeRect(min_x, min_y, width, height);\n",
       "};\n",
       "\n",
       "mpl.figure.prototype.handle_figure_label = function (fig, msg) {\n",
       "    // Updates the figure title.\n",
       "    fig.header.textContent = msg['label'];\n",
       "};\n",
       "\n",
       "mpl.figure.prototype.handle_cursor = function (fig, msg) {\n",
       "    var cursor = msg['cursor'];\n",
       "    switch (cursor) {\n",
       "        case 0:\n",
       "            cursor = 'pointer';\n",
       "            break;\n",
       "        case 1:\n",
       "            cursor = 'default';\n",
       "            break;\n",
       "        case 2:\n",
       "            cursor = 'crosshair';\n",
       "            break;\n",
       "        case 3:\n",
       "            cursor = 'move';\n",
       "            break;\n",
       "    }\n",
       "    fig.rubberband_canvas.style.cursor = cursor;\n",
       "};\n",
       "\n",
       "mpl.figure.prototype.handle_message = function (fig, msg) {\n",
       "    fig.message.textContent = msg['message'];\n",
       "};\n",
       "\n",
       "mpl.figure.prototype.handle_draw = function (fig, _msg) {\n",
       "    // Request the server to send over a new figure.\n",
       "    fig.send_draw_message();\n",
       "};\n",
       "\n",
       "mpl.figure.prototype.handle_image_mode = function (fig, msg) {\n",
       "    fig.image_mode = msg['mode'];\n",
       "};\n",
       "\n",
       "mpl.figure.prototype.handle_history_buttons = function (fig, msg) {\n",
       "    for (var key in msg) {\n",
       "        if (!(key in fig.buttons)) {\n",
       "            continue;\n",
       "        }\n",
       "        fig.buttons[key].disabled = !msg[key];\n",
       "        fig.buttons[key].setAttribute('aria-disabled', !msg[key]);\n",
       "    }\n",
       "};\n",
       "\n",
       "mpl.figure.prototype.handle_navigate_mode = function (fig, msg) {\n",
       "    if (msg['mode'] === 'PAN') {\n",
       "        fig.buttons['Pan'].classList.add('active');\n",
       "        fig.buttons['Zoom'].classList.remove('active');\n",
       "    } else if (msg['mode'] === 'ZOOM') {\n",
       "        fig.buttons['Pan'].classList.remove('active');\n",
       "        fig.buttons['Zoom'].classList.add('active');\n",
       "    } else {\n",
       "        fig.buttons['Pan'].classList.remove('active');\n",
       "        fig.buttons['Zoom'].classList.remove('active');\n",
       "    }\n",
       "};\n",
       "\n",
       "mpl.figure.prototype.updated_canvas_event = function () {\n",
       "    // Called whenever the canvas gets updated.\n",
       "    this.send_message('ack', {});\n",
       "};\n",
       "\n",
       "// A function to construct a web socket function for onmessage handling.\n",
       "// Called in the figure constructor.\n",
       "mpl.figure.prototype._make_on_message_function = function (fig) {\n",
       "    return function socket_on_message(evt) {\n",
       "        if (evt.data instanceof Blob) {\n",
       "            var img = evt.data;\n",
       "            if (img.type !== 'image/png') {\n",
       "                /* FIXME: We get \"Resource interpreted as Image but\n",
       "                 * transferred with MIME type text/plain:\" errors on\n",
       "                 * Chrome.  But how to set the MIME type?  It doesn't seem\n",
       "                 * to be part of the websocket stream */\n",
       "                img.type = 'image/png';\n",
       "            }\n",
       "\n",
       "            /* Free the memory for the previous frames */\n",
       "            if (fig.imageObj.src) {\n",
       "                (window.URL || window.webkitURL).revokeObjectURL(\n",
       "                    fig.imageObj.src\n",
       "                );\n",
       "            }\n",
       "\n",
       "            fig.imageObj.src = (window.URL || window.webkitURL).createObjectURL(\n",
       "                img\n",
       "            );\n",
       "            fig.updated_canvas_event();\n",
       "            fig.waiting = false;\n",
       "            return;\n",
       "        } else if (\n",
       "            typeof evt.data === 'string' &&\n",
       "            evt.data.slice(0, 21) === 'data:image/png;base64'\n",
       "        ) {\n",
       "            fig.imageObj.src = evt.data;\n",
       "            fig.updated_canvas_event();\n",
       "            fig.waiting = false;\n",
       "            return;\n",
       "        }\n",
       "\n",
       "        var msg = JSON.parse(evt.data);\n",
       "        var msg_type = msg['type'];\n",
       "\n",
       "        // Call the  \"handle_{type}\" callback, which takes\n",
       "        // the figure and JSON message as its only arguments.\n",
       "        try {\n",
       "            var callback = fig['handle_' + msg_type];\n",
       "        } catch (e) {\n",
       "            console.log(\n",
       "                \"No handler for the '\" + msg_type + \"' message type: \",\n",
       "                msg\n",
       "            );\n",
       "            return;\n",
       "        }\n",
       "\n",
       "        if (callback) {\n",
       "            try {\n",
       "                // console.log(\"Handling '\" + msg_type + \"' message: \", msg);\n",
       "                callback(fig, msg);\n",
       "            } catch (e) {\n",
       "                console.log(\n",
       "                    \"Exception inside the 'handler_\" + msg_type + \"' callback:\",\n",
       "                    e,\n",
       "                    e.stack,\n",
       "                    msg\n",
       "                );\n",
       "            }\n",
       "        }\n",
       "    };\n",
       "};\n",
       "\n",
       "// from http://stackoverflow.com/questions/1114465/getting-mouse-location-in-canvas\n",
       "mpl.findpos = function (e) {\n",
       "    //this section is from http://www.quirksmode.org/js/events_properties.html\n",
       "    var targ;\n",
       "    if (!e) {\n",
       "        e = window.event;\n",
       "    }\n",
       "    if (e.target) {\n",
       "        targ = e.target;\n",
       "    } else if (e.srcElement) {\n",
       "        targ = e.srcElement;\n",
       "    }\n",
       "    if (targ.nodeType === 3) {\n",
       "        // defeat Safari bug\n",
       "        targ = targ.parentNode;\n",
       "    }\n",
       "\n",
       "    // pageX,Y are the mouse positions relative to the document\n",
       "    var boundingRect = targ.getBoundingClientRect();\n",
       "    var x = e.pageX - (boundingRect.left + document.body.scrollLeft);\n",
       "    var y = e.pageY - (boundingRect.top + document.body.scrollTop);\n",
       "\n",
       "    return { x: x, y: y };\n",
       "};\n",
       "\n",
       "/*\n",
       " * return a copy of an object with only non-object keys\n",
       " * we need this to avoid circular references\n",
       " * http://stackoverflow.com/a/24161582/3208463\n",
       " */\n",
       "function simpleKeys(original) {\n",
       "    return Object.keys(original).reduce(function (obj, key) {\n",
       "        if (typeof original[key] !== 'object') {\n",
       "            obj[key] = original[key];\n",
       "        }\n",
       "        return obj;\n",
       "    }, {});\n",
       "}\n",
       "\n",
       "mpl.figure.prototype.mouse_event = function (event, name) {\n",
       "    var canvas_pos = mpl.findpos(event);\n",
       "\n",
       "    if (name === 'button_press') {\n",
       "        this.canvas.focus();\n",
       "        this.canvas_div.focus();\n",
       "    }\n",
       "\n",
       "    var x = canvas_pos.x * this.ratio;\n",
       "    var y = canvas_pos.y * this.ratio;\n",
       "\n",
       "    this.send_message(name, {\n",
       "        x: x,\n",
       "        y: y,\n",
       "        button: event.button,\n",
       "        step: event.step,\n",
       "        guiEvent: simpleKeys(event),\n",
       "    });\n",
       "\n",
       "    /* This prevents the web browser from automatically changing to\n",
       "     * the text insertion cursor when the button is pressed.  We want\n",
       "     * to control all of the cursor setting manually through the\n",
       "     * 'cursor' event from matplotlib */\n",
       "    event.preventDefault();\n",
       "    return false;\n",
       "};\n",
       "\n",
       "mpl.figure.prototype._key_event_extra = function (_event, _name) {\n",
       "    // Handle any extra behaviour associated with a key event\n",
       "};\n",
       "\n",
       "mpl.figure.prototype.key_event = function (event, name) {\n",
       "    // Prevent repeat events\n",
       "    if (name === 'key_press') {\n",
       "        if (event.key === this._key) {\n",
       "            return;\n",
       "        } else {\n",
       "            this._key = event.key;\n",
       "        }\n",
       "    }\n",
       "    if (name === 'key_release') {\n",
       "        this._key = null;\n",
       "    }\n",
       "\n",
       "    var value = '';\n",
       "    if (event.ctrlKey && event.key !== 'Control') {\n",
       "        value += 'ctrl+';\n",
       "    }\n",
       "    else if (event.altKey && event.key !== 'Alt') {\n",
       "        value += 'alt+';\n",
       "    }\n",
       "    else if (event.shiftKey && event.key !== 'Shift') {\n",
       "        value += 'shift+';\n",
       "    }\n",
       "\n",
       "    value += 'k' + event.key;\n",
       "\n",
       "    this._key_event_extra(event, name);\n",
       "\n",
       "    this.send_message(name, { key: value, guiEvent: simpleKeys(event) });\n",
       "    return false;\n",
       "};\n",
       "\n",
       "mpl.figure.prototype.toolbar_button_onclick = function (name) {\n",
       "    if (name === 'download') {\n",
       "        this.handle_save(this, null);\n",
       "    } else {\n",
       "        this.send_message('toolbar_button', { name: name });\n",
       "    }\n",
       "};\n",
       "\n",
       "mpl.figure.prototype.toolbar_button_onmouseover = function (tooltip) {\n",
       "    this.message.textContent = tooltip;\n",
       "};\n",
       "\n",
       "///////////////// REMAINING CONTENT GENERATED BY embed_js.py /////////////////\n",
       "// prettier-ignore\n",
       "var _JSXTOOLS_RESIZE_OBSERVER=function(A){var t,i=new WeakMap,n=new WeakMap,a=new WeakMap,r=new WeakMap,o=new Set;function s(e){if(!(this instanceof s))throw new TypeError(\"Constructor requires 'new' operator\");i.set(this,e)}function h(){throw new TypeError(\"Function is not a constructor\")}function c(e,t,i,n){e=0 in arguments?Number(arguments[0]):0,t=1 in arguments?Number(arguments[1]):0,i=2 in arguments?Number(arguments[2]):0,n=3 in arguments?Number(arguments[3]):0,this.right=(this.x=this.left=e)+(this.width=i),this.bottom=(this.y=this.top=t)+(this.height=n),Object.freeze(this)}function d(){t=requestAnimationFrame(d);var s=new WeakMap,p=new Set;o.forEach((function(t){r.get(t).forEach((function(i){var r=t instanceof window.SVGElement,o=a.get(t),d=r?0:parseFloat(o.paddingTop),f=r?0:parseFloat(o.paddingRight),l=r?0:parseFloat(o.paddingBottom),u=r?0:parseFloat(o.paddingLeft),g=r?0:parseFloat(o.borderTopWidth),m=r?0:parseFloat(o.borderRightWidth),w=r?0:parseFloat(o.borderBottomWidth),b=u+f,F=d+l,v=(r?0:parseFloat(o.borderLeftWidth))+m,W=g+w,y=r?0:t.offsetHeight-W-t.clientHeight,E=r?0:t.offsetWidth-v-t.clientWidth,R=b+v,z=F+W,M=r?t.width:parseFloat(o.width)-R-E,O=r?t.height:parseFloat(o.height)-z-y;if(n.has(t)){var k=n.get(t);if(k[0]===M&&k[1]===O)return}n.set(t,[M,O]);var S=Object.create(h.prototype);S.target=t,S.contentRect=new c(u,d,M,O),s.has(i)||(s.set(i,[]),p.add(i)),s.get(i).push(S)}))})),p.forEach((function(e){i.get(e).call(e,s.get(e),e)}))}return s.prototype.observe=function(i){if(i instanceof window.Element){r.has(i)||(r.set(i,new Set),o.add(i),a.set(i,window.getComputedStyle(i)));var n=r.get(i);n.has(this)||n.add(this),cancelAnimationFrame(t),t=requestAnimationFrame(d)}},s.prototype.unobserve=function(i){if(i instanceof window.Element&&r.has(i)){var n=r.get(i);n.has(this)&&(n.delete(this),n.size||(r.delete(i),o.delete(i))),n.size||r.delete(i),o.size||cancelAnimationFrame(t)}},A.DOMRectReadOnly=c,A.ResizeObserver=s,A.ResizeObserverEntry=h,A}; // eslint-disable-line\n",
       "mpl.toolbar_items = [[\"Home\", \"Reset original view\", \"fa fa-home icon-home\", \"home\"], [\"Back\", \"Back to previous view\", \"fa fa-arrow-left icon-arrow-left\", \"back\"], [\"Forward\", \"Forward to next view\", \"fa fa-arrow-right icon-arrow-right\", \"forward\"], [\"\", \"\", \"\", \"\"], [\"Pan\", \"Left button pans, Right button zooms\\nx/y fixes axis, CTRL fixes aspect\", \"fa fa-arrows icon-move\", \"pan\"], [\"Zoom\", \"Zoom to rectangle\\nx/y fixes axis, CTRL fixes aspect\", \"fa fa-square-o icon-check-empty\", \"zoom\"], [\"\", \"\", \"\", \"\"], [\"Download\", \"Download plot\", \"fa fa-floppy-o icon-save\", \"download\"]];\n",
       "\n",
       "mpl.extensions = [\"eps\", \"jpeg\", \"pgf\", \"pdf\", \"png\", \"ps\", \"raw\", \"svg\", \"tif\"];\n",
       "\n",
       "mpl.default_extension = \"png\";/* global mpl */\n",
       "\n",
       "var comm_websocket_adapter = function (comm) {\n",
       "    // Create a \"websocket\"-like object which calls the given IPython comm\n",
       "    // object with the appropriate methods. Currently this is a non binary\n",
       "    // socket, so there is still some room for performance tuning.\n",
       "    var ws = {};\n",
       "\n",
       "    ws.binaryType = comm.kernel.ws.binaryType;\n",
       "    ws.readyState = comm.kernel.ws.readyState;\n",
       "    function updateReadyState(_event) {\n",
       "        if (comm.kernel.ws) {\n",
       "            ws.readyState = comm.kernel.ws.readyState;\n",
       "        } else {\n",
       "            ws.readyState = 3; // Closed state.\n",
       "        }\n",
       "    }\n",
       "    comm.kernel.ws.addEventListener('open', updateReadyState);\n",
       "    comm.kernel.ws.addEventListener('close', updateReadyState);\n",
       "    comm.kernel.ws.addEventListener('error', updateReadyState);\n",
       "\n",
       "    ws.close = function () {\n",
       "        comm.close();\n",
       "    };\n",
       "    ws.send = function (m) {\n",
       "        //console.log('sending', m);\n",
       "        comm.send(m);\n",
       "    };\n",
       "    // Register the callback with on_msg.\n",
       "    comm.on_msg(function (msg) {\n",
       "        //console.log('receiving', msg['content']['data'], msg);\n",
       "        var data = msg['content']['data'];\n",
       "        if (data['blob'] !== undefined) {\n",
       "            data = {\n",
       "                data: new Blob(msg['buffers'], { type: data['blob'] }),\n",
       "            };\n",
       "        }\n",
       "        // Pass the mpl event to the overridden (by mpl) onmessage function.\n",
       "        ws.onmessage(data);\n",
       "    });\n",
       "    return ws;\n",
       "};\n",
       "\n",
       "mpl.mpl_figure_comm = function (comm, msg) {\n",
       "    // This is the function which gets called when the mpl process\n",
       "    // starts-up an IPython Comm through the \"matplotlib\" channel.\n",
       "\n",
       "    var id = msg.content.data.id;\n",
       "    // Get hold of the div created by the display call when the Comm\n",
       "    // socket was opened in Python.\n",
       "    var element = document.getElementById(id);\n",
       "    var ws_proxy = comm_websocket_adapter(comm);\n",
       "\n",
       "    function ondownload(figure, _format) {\n",
       "        window.open(figure.canvas.toDataURL());\n",
       "    }\n",
       "\n",
       "    var fig = new mpl.figure(id, ws_proxy, ondownload, element);\n",
       "\n",
       "    // Call onopen now - mpl needs it, as it is assuming we've passed it a real\n",
       "    // web socket which is closed, not our websocket->open comm proxy.\n",
       "    ws_proxy.onopen();\n",
       "\n",
       "    fig.parent_element = element;\n",
       "    fig.cell_info = mpl.find_output_cell(\"<div id='\" + id + \"'></div>\");\n",
       "    if (!fig.cell_info) {\n",
       "        console.error('Failed to find cell for figure', id, fig);\n",
       "        return;\n",
       "    }\n",
       "    fig.cell_info[0].output_area.element.on(\n",
       "        'cleared',\n",
       "        { fig: fig },\n",
       "        fig._remove_fig_handler\n",
       "    );\n",
       "};\n",
       "\n",
       "mpl.figure.prototype.handle_close = function (fig, msg) {\n",
       "    var width = fig.canvas.width / fig.ratio;\n",
       "    fig.cell_info[0].output_area.element.off(\n",
       "        'cleared',\n",
       "        fig._remove_fig_handler\n",
       "    );\n",
       "    fig.resizeObserverInstance.unobserve(fig.canvas_div);\n",
       "\n",
       "    // Update the output cell to use the data from the current canvas.\n",
       "    fig.push_to_output();\n",
       "    var dataURL = fig.canvas.toDataURL();\n",
       "    // Re-enable the keyboard manager in IPython - without this line, in FF,\n",
       "    // the notebook keyboard shortcuts fail.\n",
       "    IPython.keyboard_manager.enable();\n",
       "    fig.parent_element.innerHTML =\n",
       "        '<img src=\"' + dataURL + '\" width=\"' + width + '\">';\n",
       "    fig.close_ws(fig, msg);\n",
       "};\n",
       "\n",
       "mpl.figure.prototype.close_ws = function (fig, msg) {\n",
       "    fig.send_message('closing', msg);\n",
       "    // fig.ws.close()\n",
       "};\n",
       "\n",
       "mpl.figure.prototype.push_to_output = function (_remove_interactive) {\n",
       "    // Turn the data on the canvas into data in the output cell.\n",
       "    var width = this.canvas.width / this.ratio;\n",
       "    var dataURL = this.canvas.toDataURL();\n",
       "    this.cell_info[1]['text/html'] =\n",
       "        '<img src=\"' + dataURL + '\" width=\"' + width + '\">';\n",
       "};\n",
       "\n",
       "mpl.figure.prototype.updated_canvas_event = function () {\n",
       "    // Tell IPython that the notebook contents must change.\n",
       "    IPython.notebook.set_dirty(true);\n",
       "    this.send_message('ack', {});\n",
       "    var fig = this;\n",
       "    // Wait a second, then push the new image to the DOM so\n",
       "    // that it is saved nicely (might be nice to debounce this).\n",
       "    setTimeout(function () {\n",
       "        fig.push_to_output();\n",
       "    }, 1000);\n",
       "};\n",
       "\n",
       "mpl.figure.prototype._init_toolbar = function () {\n",
       "    var fig = this;\n",
       "\n",
       "    var toolbar = document.createElement('div');\n",
       "    toolbar.classList = 'btn-toolbar';\n",
       "    this.root.appendChild(toolbar);\n",
       "\n",
       "    function on_click_closure(name) {\n",
       "        return function (_event) {\n",
       "            return fig.toolbar_button_onclick(name);\n",
       "        };\n",
       "    }\n",
       "\n",
       "    function on_mouseover_closure(tooltip) {\n",
       "        return function (event) {\n",
       "            if (!event.currentTarget.disabled) {\n",
       "                return fig.toolbar_button_onmouseover(tooltip);\n",
       "            }\n",
       "        };\n",
       "    }\n",
       "\n",
       "    fig.buttons = {};\n",
       "    var buttonGroup = document.createElement('div');\n",
       "    buttonGroup.classList = 'btn-group';\n",
       "    var button;\n",
       "    for (var toolbar_ind in mpl.toolbar_items) {\n",
       "        var name = mpl.toolbar_items[toolbar_ind][0];\n",
       "        var tooltip = mpl.toolbar_items[toolbar_ind][1];\n",
       "        var image = mpl.toolbar_items[toolbar_ind][2];\n",
       "        var method_name = mpl.toolbar_items[toolbar_ind][3];\n",
       "\n",
       "        if (!name) {\n",
       "            /* Instead of a spacer, we start a new button group. */\n",
       "            if (buttonGroup.hasChildNodes()) {\n",
       "                toolbar.appendChild(buttonGroup);\n",
       "            }\n",
       "            buttonGroup = document.createElement('div');\n",
       "            buttonGroup.classList = 'btn-group';\n",
       "            continue;\n",
       "        }\n",
       "\n",
       "        button = fig.buttons[name] = document.createElement('button');\n",
       "        button.classList = 'btn btn-default';\n",
       "        button.href = '#';\n",
       "        button.title = name;\n",
       "        button.innerHTML = '<i class=\"fa ' + image + ' fa-lg\"></i>';\n",
       "        button.addEventListener('click', on_click_closure(method_name));\n",
       "        button.addEventListener('mouseover', on_mouseover_closure(tooltip));\n",
       "        buttonGroup.appendChild(button);\n",
       "    }\n",
       "\n",
       "    if (buttonGroup.hasChildNodes()) {\n",
       "        toolbar.appendChild(buttonGroup);\n",
       "    }\n",
       "\n",
       "    // Add the status bar.\n",
       "    var status_bar = document.createElement('span');\n",
       "    status_bar.classList = 'mpl-message pull-right';\n",
       "    toolbar.appendChild(status_bar);\n",
       "    this.message = status_bar;\n",
       "\n",
       "    // Add the close button to the window.\n",
       "    var buttongrp = document.createElement('div');\n",
       "    buttongrp.classList = 'btn-group inline pull-right';\n",
       "    button = document.createElement('button');\n",
       "    button.classList = 'btn btn-mini btn-primary';\n",
       "    button.href = '#';\n",
       "    button.title = 'Stop Interaction';\n",
       "    button.innerHTML = '<i class=\"fa fa-power-off icon-remove icon-large\"></i>';\n",
       "    button.addEventListener('click', function (_evt) {\n",
       "        fig.handle_close(fig, {});\n",
       "    });\n",
       "    button.addEventListener(\n",
       "        'mouseover',\n",
       "        on_mouseover_closure('Stop Interaction')\n",
       "    );\n",
       "    buttongrp.appendChild(button);\n",
       "    var titlebar = this.root.querySelector('.ui-dialog-titlebar');\n",
       "    titlebar.insertBefore(buttongrp, titlebar.firstChild);\n",
       "};\n",
       "\n",
       "mpl.figure.prototype._remove_fig_handler = function (event) {\n",
       "    var fig = event.data.fig;\n",
       "    if (event.target !== this) {\n",
       "        // Ignore bubbled events from children.\n",
       "        return;\n",
       "    }\n",
       "    fig.close_ws(fig, {});\n",
       "};\n",
       "\n",
       "mpl.figure.prototype._root_extra_style = function (el) {\n",
       "    el.style.boxSizing = 'content-box'; // override notebook setting of border-box.\n",
       "};\n",
       "\n",
       "mpl.figure.prototype._canvas_extra_style = function (el) {\n",
       "    // this is important to make the div 'focusable\n",
       "    el.setAttribute('tabindex', 0);\n",
       "    // reach out to IPython and tell the keyboard manager to turn it's self\n",
       "    // off when our div gets focus\n",
       "\n",
       "    // location in version 3\n",
       "    if (IPython.notebook.keyboard_manager) {\n",
       "        IPython.notebook.keyboard_manager.register_events(el);\n",
       "    } else {\n",
       "        // location in version 2\n",
       "        IPython.keyboard_manager.register_events(el);\n",
       "    }\n",
       "};\n",
       "\n",
       "mpl.figure.prototype._key_event_extra = function (event, _name) {\n",
       "    var manager = IPython.notebook.keyboard_manager;\n",
       "    if (!manager) {\n",
       "        manager = IPython.keyboard_manager;\n",
       "    }\n",
       "\n",
       "    // Check for shift+enter\n",
       "    if (event.shiftKey && event.which === 13) {\n",
       "        this.canvas_div.blur();\n",
       "        // select the cell after this one\n",
       "        var index = IPython.notebook.find_cell_index(this.cell_info[0]);\n",
       "        IPython.notebook.select(index + 1);\n",
       "    }\n",
       "};\n",
       "\n",
       "mpl.figure.prototype.handle_save = function (fig, _msg) {\n",
       "    fig.ondownload(fig, null);\n",
       "};\n",
       "\n",
       "mpl.find_output_cell = function (html_output) {\n",
       "    // Return the cell and output element which can be found *uniquely* in the notebook.\n",
       "    // Note - this is a bit hacky, but it is done because the \"notebook_saving.Notebook\"\n",
       "    // IPython event is triggered only after the cells have been serialised, which for\n",
       "    // our purposes (turning an active figure into a static one), is too late.\n",
       "    var cells = IPython.notebook.get_cells();\n",
       "    var ncells = cells.length;\n",
       "    for (var i = 0; i < ncells; i++) {\n",
       "        var cell = cells[i];\n",
       "        if (cell.cell_type === 'code') {\n",
       "            for (var j = 0; j < cell.output_area.outputs.length; j++) {\n",
       "                var data = cell.output_area.outputs[j];\n",
       "                if (data.data) {\n",
       "                    // IPython >= 3 moved mimebundle to data attribute of output\n",
       "                    data = data.data;\n",
       "                }\n",
       "                if (data['text/html'] === html_output) {\n",
       "                    return [cell, data, j];\n",
       "                }\n",
       "            }\n",
       "        }\n",
       "    }\n",
       "};\n",
       "\n",
       "// Register the function which deals with the matplotlib target/channel.\n",
       "// The kernel may be null if the page has been refreshed.\n",
       "if (IPython.notebook.kernel !== null) {\n",
       "    IPython.notebook.kernel.comm_manager.register_target(\n",
       "        'matplotlib',\n",
       "        mpl.mpl_figure_comm\n",
       "    );\n",
       "}\n"
      ],
      "text/plain": [
       "<IPython.core.display.Javascript object>"
      ]
     },
     "metadata": {},
     "output_type": "display_data"
    },
    {
     "data": {
      "text/html": [
       "<img src=\"data:image/png;base64,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\" width=\"640\">"
      ],
      "text/plain": [
       "<IPython.core.display.HTML object>"
      ]
     },
     "metadata": {},
     "output_type": "display_data"
    }
   ],
   "source": [
    "rc('text', usetex=True)   # enable LaTeX commands for plot\n",
    "title(r'Armature current versus $E_A$')\n",
    "xlabel(r'$E_A$ [kV]')\n",
    "ylabel(r'$I_A$ [A]')\n",
    "plot(abs(Ea_)/1000,abs(Ia_),  linewidth = 2)\n",
    "grid()"
   ]
  }
 ],
 "metadata": {
  "kernelspec": {
   "display_name": "Python 3",
   "language": "python",
   "name": "python3"
  },
  "language_info": {
   "codemirror_mode": {
    "name": "ipython",
    "version": 3
   },
   "file_extension": ".py",
   "mimetype": "text/x-python",
   "name": "python",
   "nbconvert_exporter": "python",
   "pygments_lexer": "ipython3",
   "version": "3.8.10"
  }
 },
 "nbformat": 4,
 "nbformat_minor": 1
}
